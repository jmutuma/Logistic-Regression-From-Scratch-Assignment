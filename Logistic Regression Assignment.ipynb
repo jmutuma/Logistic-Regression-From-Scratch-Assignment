{
 "cells": [
  {
   "cell_type": "markdown",
   "id": "afd06dce",
   "metadata": {},
   "source": [
    "# Logistic Regression From Scratch Assignment.\n",
    "- Implement logistic regression from scratch using only minimum library such as numpy"
   ]
  },
  {
   "cell_type": "markdown",
   "id": "ed4aec88",
   "metadata": {},
   "source": [
    "## Problem 1: Hypothetical Function\n",
    "\n",
    "- Logistic regression assumption function is the linear regression assumption function passed through the <b> Sigmoid Function. </b>\n",
    "\n",
    "- Logistic regression assumption function is as follows:\n",
    "\n",
    "$$\n",
    "h_{i}{(x)} = \\frac{1}{1+ e^-i^T.x}\n",
    "$$"
   ]
  },
  {
   "cell_type": "code",
   "execution_count": null,
   "id": "d2956b20",
   "metadata": {},
   "outputs": [],
   "source": [
    "# function to calculate sigmoid\n",
    "def _sigmoid(self,y): # input y\n",
    "        return 1 / (1+np.exp(-y)) # return the sigmoid from input y\n",
    "#     \n",
    "def _logistic_hypothesis(self,X):\n",
    "        pred = X @ self.theta\n",
    "        pred = self._sigmoid(pred)\n",
    "        return pred"
   ]
  },
  {
   "cell_type": "markdown",
   "id": "b13a820b",
   "metadata": {},
   "source": [
    "## Question 2: The steepest descent method\n",
    "\n",
    "\n",
    "$$\n",
    "\\frac{\\partial{}}{\\partial{i_{j}}}J(i) = (\\frac{1}{m}\\sum_{i=1}^{m}[(h_{i}(x^{(i)}) - y^{(i)})(x_{j}^{(i)})]) + \\frac{l}{m}i_{j}\n",
    "$$\n",
    "\n",
    "- the above term includes a regularization term $ l $ used to prevent overfitting"
   ]
  },
  {
   "cell_type": "code",
   "execution_count": null,
   "id": "60b580f4",
   "metadata": {},
   "outputs": [],
   "source": [
    "def _gradient_descent(self,X,y):\n",
    "        m = X.shape[0]\n",
    "        n = X.shape[1]\n",
    "        pred = self._logistic_hypothesis(X)\n",
    "        for j in range(n):\n",
    "            gradient = 0\n",
    "            for i in range(m):\n",
    "                gradient+= (pred[i] - y[i]) * X[i, j]\n",
    "            self.theta[j] = self.theta[j] - self.lr * ((gradient + self.lam * self.theta[j]) / m)"
   ]
  },
  {
   "cell_type": "markdown",
   "id": "9ad11c90",
   "metadata": {},
   "source": [
    "## Question 3: Presumption"
   ]
  },
  {
   "cell_type": "code",
   "execution_count": null,
   "id": "c9a1b279",
   "metadata": {},
   "outputs": [],
   "source": [
    "# return value pred is the output of the hypothetical function\n",
    "def predict_proba(self, X):\n",
    "        if self.bias == True:\n",
    "            a = np.ones(X.shape[0]).reshape(X.shape[0], 1)\n",
    "            X = np.hstack([a, X])\n",
    "        pred = self._logistic_hypothesis(X)\n",
    "        return pred\n",
    "    \n",
    "# predict function return dicrete value (0 or 1) by setting a threshold on that value\n",
    "def predict(self,X):\n",
    "        if self.bias == True:\n",
    "            a = np.ones(X.shape[0]).reshape(X.shape[0], 1)\n",
    "            X = np.hstack([a, X]) \n",
    "        return np.where(self._logistic_hypothesis(X) >= 0.5,1,0)\n",
    "    \n"
   ]
  },
  {
   "cell_type": "markdown",
   "id": "bb9cb75a",
   "metadata": {},
   "source": [
    "## Question 4: Objective Function\n",
    "- objective function(loss function) formula\n",
    "\n",
    "$$\n",
    "J_{i} = \\frac{1}{m} \\sum_{i=1}^{m}[-y^{(i)}log(h_{i}(x^{(i)}) - (1-y^{(i)})log(1 - h_{i}(x^{(i)})] + \\frac{l}{2m} \\sum_{j=1}^{n} i_{j}^{2}\n",
    "$$"
   ]
  },
  {
   "cell_type": "code",
   "execution_count": null,
   "id": "19465eb2",
   "metadata": {},
   "outputs": [],
   "source": [
    "def _loss_func(self, pred, y):\n",
    "        error = 0\n",
    "        for i in range(y.shape[0]):\n",
    "            error += -np.sum(y[i] * np.log(pred[i]) + (1-y[i]) * np.log(1 - pred[i]))\n",
    "        loss = error / (y.shape[0])\n",
    "        loss = loss + np.sum(self.theta ** 2) * self.lam / (2 * y.shape[0])\n",
    "        return loss"
   ]
  },
  {
   "cell_type": "markdown",
   "id": "b227283a",
   "metadata": {},
   "source": [
    "## Question 5: Learning and Estimation\n",
    "\n",
    "- We compile the whole code and implement using binary classification of virgicolor and virginica as prepared in the introductiion course\n",
    "- Compare with scikit learn implementation\n",
    "- use scikit learn for index values such as Accuracy, precision and recall"
   ]
  },
  {
   "cell_type": "code",
   "execution_count": 25,
   "id": "7fd9d86a",
   "metadata": {},
   "outputs": [],
   "source": [
    "# import the necessary libraries\n",
    "import numpy as np\n",
    "import pandas as pd\n",
    "import matplotlib.pyplot as plt\n",
    "from matplotlib.colors import ListedColormap"
   ]
  },
  {
   "cell_type": "code",
   "execution_count": 1,
   "id": "adfc5684",
   "metadata": {},
   "outputs": [],
   "source": [
    "# compile the whole code\n",
    "class ScratchLogisticRegression():\n",
    "    def __init__(self, num_iter, lr, bias, verbose,lam):\n",
    "        self.num_iter = num_iter\n",
    "        self.lr = lr\n",
    "        self.bias = bias\n",
    "        self.verbose = verbose\n",
    "        self.lam = lam\n",
    "        self.theta = np.array([])\n",
    "        self.loss = np.array([])\n",
    "        self.val_loss = np.array([])\n",
    "        \n",
    "    def fit(self, X, y, X_val, y_val):\n",
    "        if self.bias == True:\n",
    "            bias = np.ones((X.shape[0], 1))\n",
    "            X = np.hstack((bias, X))\n",
    "            bias = np.ones((X_val.shape[0], 1))\n",
    "            X_val = np.hstack((bias, X_val))\n",
    "        self.theta = np.zeros(X.shape[1])\n",
    "        self.theta = self.theta.reshape(X.shape[1], 1)\n",
    "        for i in range(self.num_iter):\n",
    "            pred = self._logistic_hypothesis(X)\n",
    "            pred_val = self._logistic_hypothesis(X_val)\n",
    "            self._gradient_descent(X, y)\n",
    "            loss = self._loss_func(pred, y)\n",
    "            self.loss = np.append(self.loss, loss)\n",
    "            loss_val = self._loss_func(pred_val, y_val)\n",
    "            self.val_loss = np.append(self.val_loss, loss_val)\n",
    "            if self.verbose == True:\n",
    "                print('{}The learning loss is{}'.format(i,loss))\n",
    "    \n",
    "    def _gradient_descent(self,X,y):\n",
    "        m = X.shape[0]\n",
    "        n = X.shape[1]\n",
    "        pred = self._logistic_hypothesis(X)\n",
    "        for j in range(n):\n",
    "            gradient = 0\n",
    "            for i in range(m):\n",
    "                gradient+= (pred[i] - y[i]) * X[i, j]\n",
    "            self.theta[j] = self.theta[j] - self.lr * ((gradient + self.lam * self.theta[j]) / m)\n",
    "    def _sigmoid(self,y):\n",
    "        return 1 / (1+np.exp(-y))\n",
    "    \n",
    "    def _logistic_hypothesis(self,X):\n",
    "        pred = X @ self.theta\n",
    "        pred = self._sigmoid(pred)\n",
    "        return pred\n",
    "    \n",
    "    def predict(self,X):\n",
    "        if self.bias == True:\n",
    "            a = np.ones(X.shape[0]).reshape(X.shape[0], 1)\n",
    "            X = np.hstack([a, X]) \n",
    "        return np.where(self._logistic_hypothesis(X) >= 0.5,1,0)\n",
    "    \n",
    "    def predict_proba(self, X):\n",
    "        if self.bias == True:\n",
    "            a = np.ones(X.shape[0]).reshape(X.shape[0], 1)\n",
    "            X = np.hstack([a, X])\n",
    "        pred = self._logistic_hypothesis(X)\n",
    "        return pred\n",
    "    \n",
    "    def _loss_func(self, pred, y):\n",
    "        error = 0\n",
    "        for i in range(y.shape[0]):\n",
    "            error += -np.sum(y[i] * np.log(pred[i]) + (1-y[i]) * np.log(1 - pred[i]))\n",
    "        loss = error / (y.shape[0])\n",
    "        loss = loss + np.sum(self.theta ** 2) * self.lam / (2 * y.shape[0])\n",
    "        return loss\n",
    "    "
   ]
  },
  {
   "cell_type": "code",
   "execution_count": 4,
   "id": "3ac55474",
   "metadata": {},
   "outputs": [],
   "source": [
    "# load the iris dataset for virgicolor and virginica as in the course \n",
    "from sklearn.model_selection import train_test_split\n",
    "from sklearn.datasets import load_iris\n",
    "iris = load_iris()\n",
    "X = iris.data[:100,:]\n",
    "y = iris.target[:100]\n",
    "(X_train, X_test, y_train, y_test) = train_test_split(X, y, test_size = 0.2)\n"
   ]
  },
  {
   "cell_type": "code",
   "execution_count": 5,
   "id": "fd8b95cf",
   "metadata": {},
   "outputs": [
    {
     "name": "stdout",
     "output_type": "stream",
     "text": [
      "0The learning loss is0.6931472220569183\n",
      "1The learning loss is0.6866481640647207\n",
      "2The learning loss is0.680647620907743\n",
      "3The learning loss is0.675038242149112\n",
      "4The learning loss is0.6697377102555271\n",
      "5The learning loss is0.6646829585355178\n",
      "6The learning loss is0.659825681640891\n",
      "7The learning loss is0.6551288716862647\n",
      "8The learning loss is0.6505641571973938\n",
      "9The learning loss is0.6461097646849984\n"
     ]
    }
   ],
   "source": [
    "# initialize the constructor with these values and instantiate the object\n",
    "slr = ScratchLogisticRegression(num_iter=10, lr=0.01, bias=False, verbose=True,lam=0.1)\n",
    "slr.fit(X_train, y_train, X_test, y_test)"
   ]
  },
  {
   "cell_type": "code",
   "execution_count": 56,
   "id": "153b0b04",
   "metadata": {},
   "outputs": [
    {
     "data": {
      "text/plain": [
       "array([[1],\n",
       "       [0],\n",
       "       [1],\n",
       "       [0],\n",
       "       [1],\n",
       "       [1],\n",
       "       [1],\n",
       "       [1],\n",
       "       [0],\n",
       "       [0],\n",
       "       [0],\n",
       "       [1],\n",
       "       [1],\n",
       "       [0],\n",
       "       [0],\n",
       "       [1],\n",
       "       [0],\n",
       "       [1],\n",
       "       [1],\n",
       "       [0]])"
      ]
     },
     "execution_count": 56,
     "metadata": {},
     "output_type": "execute_result"
    }
   ],
   "source": [
    "# lets predict the results\n",
    "slr.predict(X_test)"
   ]
  },
  {
   "cell_type": "markdown",
   "id": "679bb283",
   "metadata": {},
   "source": [
    "#### Lets compare with scikit learn"
   ]
  },
  {
   "cell_type": "code",
   "execution_count": 7,
   "id": "887afbfd",
   "metadata": {},
   "outputs": [
    {
     "data": {
      "text/html": [
       "<style>#sk-container-id-1 {color: black;background-color: white;}#sk-container-id-1 pre{padding: 0;}#sk-container-id-1 div.sk-toggleable {background-color: white;}#sk-container-id-1 label.sk-toggleable__label {cursor: pointer;display: block;width: 100%;margin-bottom: 0;padding: 0.3em;box-sizing: border-box;text-align: center;}#sk-container-id-1 label.sk-toggleable__label-arrow:before {content: \"▸\";float: left;margin-right: 0.25em;color: #696969;}#sk-container-id-1 label.sk-toggleable__label-arrow:hover:before {color: black;}#sk-container-id-1 div.sk-estimator:hover label.sk-toggleable__label-arrow:before {color: black;}#sk-container-id-1 div.sk-toggleable__content {max-height: 0;max-width: 0;overflow: hidden;text-align: left;background-color: #f0f8ff;}#sk-container-id-1 div.sk-toggleable__content pre {margin: 0.2em;color: black;border-radius: 0.25em;background-color: #f0f8ff;}#sk-container-id-1 input.sk-toggleable__control:checked~div.sk-toggleable__content {max-height: 200px;max-width: 100%;overflow: auto;}#sk-container-id-1 input.sk-toggleable__control:checked~label.sk-toggleable__label-arrow:before {content: \"▾\";}#sk-container-id-1 div.sk-estimator input.sk-toggleable__control:checked~label.sk-toggleable__label {background-color: #d4ebff;}#sk-container-id-1 div.sk-label input.sk-toggleable__control:checked~label.sk-toggleable__label {background-color: #d4ebff;}#sk-container-id-1 input.sk-hidden--visually {border: 0;clip: rect(1px 1px 1px 1px);clip: rect(1px, 1px, 1px, 1px);height: 1px;margin: -1px;overflow: hidden;padding: 0;position: absolute;width: 1px;}#sk-container-id-1 div.sk-estimator {font-family: monospace;background-color: #f0f8ff;border: 1px dotted black;border-radius: 0.25em;box-sizing: border-box;margin-bottom: 0.5em;}#sk-container-id-1 div.sk-estimator:hover {background-color: #d4ebff;}#sk-container-id-1 div.sk-parallel-item::after {content: \"\";width: 100%;border-bottom: 1px solid gray;flex-grow: 1;}#sk-container-id-1 div.sk-label:hover label.sk-toggleable__label {background-color: #d4ebff;}#sk-container-id-1 div.sk-serial::before {content: \"\";position: absolute;border-left: 1px solid gray;box-sizing: border-box;top: 0;bottom: 0;left: 50%;z-index: 0;}#sk-container-id-1 div.sk-serial {display: flex;flex-direction: column;align-items: center;background-color: white;padding-right: 0.2em;padding-left: 0.2em;position: relative;}#sk-container-id-1 div.sk-item {position: relative;z-index: 1;}#sk-container-id-1 div.sk-parallel {display: flex;align-items: stretch;justify-content: center;background-color: white;position: relative;}#sk-container-id-1 div.sk-item::before, #sk-container-id-1 div.sk-parallel-item::before {content: \"\";position: absolute;border-left: 1px solid gray;box-sizing: border-box;top: 0;bottom: 0;left: 50%;z-index: -1;}#sk-container-id-1 div.sk-parallel-item {display: flex;flex-direction: column;z-index: 1;position: relative;background-color: white;}#sk-container-id-1 div.sk-parallel-item:first-child::after {align-self: flex-end;width: 50%;}#sk-container-id-1 div.sk-parallel-item:last-child::after {align-self: flex-start;width: 50%;}#sk-container-id-1 div.sk-parallel-item:only-child::after {width: 0;}#sk-container-id-1 div.sk-dashed-wrapped {border: 1px dashed gray;margin: 0 0.4em 0.5em 0.4em;box-sizing: border-box;padding-bottom: 0.4em;background-color: white;}#sk-container-id-1 div.sk-label label {font-family: monospace;font-weight: bold;display: inline-block;line-height: 1.2em;}#sk-container-id-1 div.sk-label-container {text-align: center;}#sk-container-id-1 div.sk-container {/* jupyter's `normalize.less` sets `[hidden] { display: none; }` but bootstrap.min.css set `[hidden] { display: none !important; }` so we also need the `!important` here to be able to override the default hidden behavior on the sphinx rendered scikit-learn.org. See: https://github.com/scikit-learn/scikit-learn/issues/21755 */display: inline-block !important;position: relative;}#sk-container-id-1 div.sk-text-repr-fallback {display: none;}</style><div id=\"sk-container-id-1\" class=\"sk-top-container\"><div class=\"sk-text-repr-fallback\"><pre>LogisticRegression()</pre><b>In a Jupyter environment, please rerun this cell to show the HTML representation or trust the notebook. <br />On GitHub, the HTML representation is unable to render, please try loading this page with nbviewer.org.</b></div><div class=\"sk-container\" hidden><div class=\"sk-item\"><div class=\"sk-estimator sk-toggleable\"><input class=\"sk-toggleable__control sk-hidden--visually\" id=\"sk-estimator-id-1\" type=\"checkbox\" checked><label for=\"sk-estimator-id-1\" class=\"sk-toggleable__label sk-toggleable__label-arrow\">LogisticRegression</label><div class=\"sk-toggleable__content\"><pre>LogisticRegression()</pre></div></div></div></div></div>"
      ],
      "text/plain": [
       "LogisticRegression()"
      ]
     },
     "execution_count": 7,
     "metadata": {},
     "output_type": "execute_result"
    }
   ],
   "source": [
    "from sklearn.linear_model import LogisticRegression\n",
    "LogReg = LogisticRegression()\n",
    "LogReg.fit(X_train, y_train)"
   ]
  },
  {
   "cell_type": "code",
   "execution_count": 8,
   "id": "be04c3fe",
   "metadata": {},
   "outputs": [
    {
     "data": {
      "text/plain": [
       "array([1, 0, 1, 0, 0, 0, 0, 1, 1, 0, 1, 1, 1, 0, 1, 1, 0, 0, 1, 0])"
      ]
     },
     "execution_count": 8,
     "metadata": {},
     "output_type": "execute_result"
    }
   ],
   "source": [
    "y_predL = LogReg.predict(X_test)\n",
    "y_predL"
   ]
  },
  {
   "cell_type": "markdown",
   "id": "911468c5",
   "metadata": {},
   "source": [
    "#### Accuracy Score"
   ]
  },
  {
   "cell_type": "code",
   "execution_count": 57,
   "id": "977dc4d1",
   "metadata": {},
   "outputs": [
    {
     "data": {
      "text/plain": [
       "1.0"
      ]
     },
     "execution_count": 57,
     "metadata": {},
     "output_type": "execute_result"
    }
   ],
   "source": [
    "# lets calculate accuracy\n",
    "#accuracy score for scratch implementation\n",
    "from sklearn.metrics import accuracy_score\n",
    "accuracy_score(y_test, slr.predict(X_test))"
   ]
  },
  {
   "cell_type": "code",
   "execution_count": 10,
   "id": "331eb338",
   "metadata": {},
   "outputs": [
    {
     "data": {
      "text/plain": [
       "1.0"
      ]
     },
     "execution_count": 10,
     "metadata": {},
     "output_type": "execute_result"
    }
   ],
   "source": [
    "#accuracy score for scikit implementation\n",
    "from sklearn.metrics import accuracy_score\n",
    "accuracy_score(y_test, y_predL)"
   ]
  },
  {
   "cell_type": "markdown",
   "id": "3be80cff",
   "metadata": {},
   "source": [
    "#### Precision Score"
   ]
  },
  {
   "cell_type": "code",
   "execution_count": 58,
   "id": "b59c16dd",
   "metadata": {},
   "outputs": [
    {
     "data": {
      "text/plain": [
       "1.0"
      ]
     },
     "execution_count": 58,
     "metadata": {},
     "output_type": "execute_result"
    }
   ],
   "source": [
    "#precision score for scratch implementation\n",
    "from sklearn.metrics import precision_score\n",
    "precision_score(y_test, slr.predict(X_test)) # for precision score best value is 1 worst value is 0"
   ]
  },
  {
   "cell_type": "code",
   "execution_count": 12,
   "id": "83cef423",
   "metadata": {},
   "outputs": [
    {
     "data": {
      "text/plain": [
       "1.0"
      ]
     },
     "execution_count": 12,
     "metadata": {},
     "output_type": "execute_result"
    }
   ],
   "source": [
    "#precision score for scratch implementation\n",
    "from sklearn.metrics import precision_score\n",
    "precision_score(y_test, y_predL) # for precision score best value is 1 worst value is 0"
   ]
  },
  {
   "cell_type": "markdown",
   "id": "a6330093",
   "metadata": {},
   "source": [
    "#### Recall Value"
   ]
  },
  {
   "cell_type": "code",
   "execution_count": 13,
   "id": "ac6f8a96",
   "metadata": {},
   "outputs": [
    {
     "data": {
      "text/plain": [
       "1.0"
      ]
     },
     "execution_count": 13,
     "metadata": {},
     "output_type": "execute_result"
    }
   ],
   "source": [
    "# recall score for scratch implementation\n",
    "from sklearn.metrics import recall_score\n",
    "recall_score(y_test, slr.predict(X_test)) #for recall_score best value is 1 worst value is 0"
   ]
  },
  {
   "cell_type": "code",
   "execution_count": 14,
   "id": "5a7a5a61",
   "metadata": {},
   "outputs": [
    {
     "data": {
      "text/plain": [
       "1.0"
      ]
     },
     "execution_count": 14,
     "metadata": {},
     "output_type": "execute_result"
    }
   ],
   "source": [
    "# recall score for scratch implementation\n",
    "from sklearn.metrics import recall_score\n",
    "recall_score(y_test, y_predL) #for recall_score best value is 1 worst value is 0"
   ]
  },
  {
   "cell_type": "markdown",
   "id": "65d939b5",
   "metadata": {},
   "source": [
    "## Question 6: Learning Curve Plot\n",
    "- Look at the learnng curve to see if the loss is dropping properly"
   ]
  },
  {
   "cell_type": "code",
   "execution_count": 59,
   "id": "cc8a05fc",
   "metadata": {},
   "outputs": [
    {
     "data": {
      "text/plain": [
       "[<matplotlib.lines.Line2D at 0x23c94e054f0>]"
      ]
     },
     "execution_count": 59,
     "metadata": {},
     "output_type": "execute_result"
    },
    {
     "data": {
      "image/png": "[encoded data removed]",
      "text/plain": [
       "<Figure size 640x480 with 1 Axes>"
      ]
     },
     "metadata": {},
     "output_type": "display_data"
    }
   ],
   "source": [
    "plt.plot(slr.loss, color = 'green')\n",
    "plt.plot(slr.val_loss, color = 'blue')"
   ]
  },
  {
   "cell_type": "markdown",
   "id": "cc252705",
   "metadata": {},
   "source": [
    "## Problem 7: Visualization of the decision region\n",
    "- Visualize the decision region"
   ]
  },
  {
   "cell_type": "markdown",
   "id": "9629c7ad",
   "metadata": {},
   "source": [
    "- Beacause learning is performed with two variables in order to draw using only two fit variables. We will reload the iris data and use 2 feature variables instead."
   ]
  },
  {
   "cell_type": "code",
   "execution_count": 51,
   "id": "65759b16",
   "metadata": {},
   "outputs": [],
   "source": [
    "X = iris.data[:100,:2]\n",
    "y = iris.target[:100]\n",
    "(X_train, X_test, y_train, y_test) = train_test_split(X, y, test_size=0.2)\n",
    "slr = ScratchLogisticRegression(num_iter=2000, lr=0.001,bias=True,verbose=False,lam = 0.1) # i have set verbose to false to avoid printing all the 2000 iterations\n",
    "slr.fit(X_train, y_train,X_test,y_test)"
   ]
  },
  {
   "cell_type": "code",
   "execution_count": 52,
   "id": "a01e0cce",
   "metadata": {},
   "outputs": [],
   "source": [
    "def decision_region(X,y,slr):\n",
    "    mesh_f0, mesh_f1  = np.meshgrid(\n",
    "        np.arange(np.min(X[:,0]), np.max(X[:,0]), 0.01), \n",
    "        np.arange(np.min(X[:,1]), np.max(X[:,1]), 0.01)\n",
    "    )\n",
    "    mesh = np.c_[np.ravel(mesh_f0),np.ravel(mesh_f1)]\n",
    "    y_pred = slr.predict(mesh).reshape(mesh_f0.shape)\n",
    "    plt.title('decision region')\n",
    "    plt.xlabel('feature0')\n",
    "    plt.ylabel('feature1')\n",
    "    plt.contourf(mesh_f0, mesh_f1, y_pred,cmap=ListedColormap(['pink', 'skyblue']))\n",
    "    plt.contour(mesh_f0, mesh_f1, y_pred,colors='red')\n",
    "    plt.scatter(X[y==0][:, 0], X[y==0][:, 1],label='0')\n",
    "    plt.scatter(X[y==1][:, 0], X[y==1][:, 1],label='1')\n",
    "    plt.legend()\n",
    "    plt.show()"
   ]
  },
  {
   "cell_type": "code",
   "execution_count": 53,
   "id": "333f37f6",
   "metadata": {},
   "outputs": [
    {
     "data": {
      "image/png": "[encoded data removed]",
      "text/plain": [
       "<Figure size 640x480 with 1 Axes>"
      ]
     },
     "metadata": {},
     "output_type": "display_data"
    }
   ],
   "source": [
    "decision_region(X, y, slr)"
   ]
  },
  {
   "cell_type": "markdown",
   "id": "fdf0f429",
   "metadata": {},
   "source": [
    "## Problem 8: (Advanced Exercise) Saving Weights\n",
    "\n",
    "- I will use the pickle module to save the learned weights"
   ]
  },
  {
   "cell_type": "code",
   "execution_count": 54,
   "id": "f9b37115",
   "metadata": {},
   "outputs": [],
   "source": [
    "# using pickle module\n",
    "import pickle # importing pickle to save data\n",
    "filename = 'learned_weights' # create filename called learned_weights\n",
    "pickle.dump(slr, open(filename, 'wb')) # giving write permission to enable file saving\n"
   ]
  },
  {
   "cell_type": "code",
   "execution_count": 55,
   "id": "6df1c21d",
   "metadata": {},
   "outputs": [
    {
     "data": {
      "text/plain": [
       "array([[1],\n",
       "       [0],\n",
       "       [1],\n",
       "       [0],\n",
       "       [1],\n",
       "       [1],\n",
       "       [1],\n",
       "       [1],\n",
       "       [0],\n",
       "       [0],\n",
       "       [0],\n",
       "       [1],\n",
       "       [1],\n",
       "       [0],\n",
       "       [0],\n",
       "       [1],\n",
       "       [0],\n",
       "       [1],\n",
       "       [1],\n",
       "       [0]])"
      ]
     },
     "execution_count": 55,
     "metadata": {},
     "output_type": "execute_result"
    }
   ],
   "source": [
    "loaded_slr = pickle.load(open(filename, 'rb')) # loading our saved model and giving read permission\n",
    "loaded_slr.predict(X_test) # using our saved model to do predictions"
   ]
  },
  {
   "cell_type": "code",
   "execution_count": null,
   "id": "3851f1f4",
   "metadata": {},
   "outputs": [],
   "source": []
  }
 ],
 "metadata": {
  "kernelspec": {
   "display_name": "Python 3 (ipykernel)",
   "language": "python",
   "name": "python3"
  },
  "language_info": {
   "codemirror_mode": {
    "name": "ipython",
    "version": 3
   },
   "file_extension": ".py",
   "mimetype": "text/x-python",
   "name": "python",
   "nbconvert_exporter": "python",
   "pygments_lexer": "ipython3",
   "version": "3.8.10"
  }
 },
 "nbformat": 4,
 "nbformat_minor": 5
}
